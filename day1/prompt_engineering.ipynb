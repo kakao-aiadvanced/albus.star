{
 "cells": [
  {
   "cell_type": "code",
   "execution_count": 3,
   "metadata": {},
   "outputs": [
    {
     "name": "stdout",
     "output_type": "stream",
     "text": [
      "The dotenv extension is already loaded. To reload it, use:\n",
      "  %reload_ext dotenv\n"
     ]
    }
   ],
   "source": [
    "%load_ext dotenv\n",
    "%dotenv"
   ]
  },
  {
   "cell_type": "markdown",
   "metadata": {},
   "source": [
    "openai client 테스트"
   ]
  },
  {
   "cell_type": "code",
   "execution_count": 4,
   "metadata": {},
   "outputs": [],
   "source": [
    "from openai import OpenAI\n",
    "\n",
    "client = OpenAI()\n",
    "\n",
    "stream = client.chat.completions.create(\n",
    "    model=\"gpt-4o-mini\",\n",
    "    messages=[{\"role\": \"user\", \"content\": \"Say this is a test\"}],\n",
    "    stream=True,\n",
    ")"
   ]
  },
  {
   "cell_type": "markdown",
   "metadata": {},
   "source": [
    "영어를 한국어로 번역하는 5-shot prompt 를 작성하고 \"dog\"를 번역해보세요."
   ]
  },
  {
   "cell_type": "code",
   "execution_count": 5,
   "metadata": {},
   "outputs": [
    {
     "name": "stdout",
     "output_type": "stream",
     "text": [
      "dog는 한국어로 \"개\"입니다."
     ]
    }
   ],
   "source": [
    "from openai import OpenAI\n",
    "\n",
    "client = OpenAI()\n",
    "\n",
    "stream = client.chat.completions.create(\n",
    "    model=\"gpt-4o-mini\",\n",
    "    messages=[{\"role\": \"system\", \"content\": \"영어를 한국어로 번역해야합니다.\"},\n",
    "    {\"role\": \"system\", \"content\": \"dog 는 한국어로 개\"},\n",
    "    {\"role\": \"system\", \"content\": \"cat은 한국어로 고양이\"},\n",
    "    {\"role\": \"system\", \"content\": \"lion 은 한국어로 사자\"},\n",
    "    {\"role\": \"system\", \"content\": \"tiger 는 한국어로 호랑이\"},\n",
    "    {\"role\": \"user\", \"content\": \"dog 가 한국어로 뭐야?\"}],\n",
    "    stream=True,\n",
    ")\n",
    "\n",
    "for chunk in stream:\n",
    "    if chunk.choices[0].delta.content is not None:\n",
    "        print(chunk.choices[0].delta.content, end=\"\")"
   ]
  },
  {
   "cell_type": "markdown",
   "metadata": {},
   "source": [
    "영화 리뷰에 대한 sentiment (positive or negative) 를 결정하는 5-shot prompt 를 작성하고 \"The storyline was dull and uninspiring.\" 에 대한 결과를 확인해보세요."
   ]
  },
  {
   "cell_type": "code",
   "execution_count": 6,
   "metadata": {},
   "outputs": [
    {
     "name": "stdout",
     "output_type": "stream",
     "text": [
      "부정적입니다."
     ]
    }
   ],
   "source": [
    "from openai import OpenAI\n",
    "\n",
    "client = OpenAI()\n",
    "\n",
    "stream = client.chat.completions.create(\n",
    "    model=\"gpt-4o-mini\",\n",
    "    messages=[{\"role\": \"system\", \"content\": \"영화 리뷰에 대한 sentiemnt 를 긍정적 혹은 부정적으로 판단해야합니다\"},\n",
    "    {\"role\": \"system\", \"content\": \"이 영화는 정말 재미가 없어. 에 대한 리뷰는 부정적입니다.\"},\n",
    "    {\"role\": \"system\", \"content\": \"이 영화의 스토리는 난해하고 이해하기 어려워. 에 대한 리뷰는 부정적입니다\"},\n",
    "    {\"role\": \"system\", \"content\": \"이 영화는 정말 재밌고, 흥미로워. 한번 더 보고싶어 에 대한 리뷰는 긍정적입니다\"},\n",
    "    {\"role\": \"system\", \"content\": \"이 영화는 스토리가 탄탄하고 극의 흐름이 자연스러워. 에 대한 리뷰는 긍정적입니다.\"},\n",
    "    {\"role\": \"user\", \"content\": \"The storyline was dull and uninspiring.\"}\n",
    "    ],\n",
    "    stream=True,\n",
    ")\n",
    "\n",
    "for chunk in stream:\n",
    "    if chunk.choices[0].delta.content is not None:\n",
    "        print(chunk.choices[0].delta.content, end=\"\")"
   ]
  },
  {
   "cell_type": "markdown",
   "metadata": {},
   "source": [
    "자연어를 SQL 쿼리로 바꿔주는 few-shot prompt 를 작성해보세요."
   ]
  },
  {
   "cell_type": "code",
   "execution_count": 7,
   "metadata": {},
   "outputs": [
    {
     "name": "stdout",
     "output_type": "stream",
     "text": [
      "To find the average salary of employees in the marketing department, you can use the following SQL query:\n",
      "\n",
      "```sql\n",
      "SELECT AVG(salary) FROM employees WHERE department = 'marketing';\n",
      "```"
     ]
    }
   ],
   "source": [
    "from openai import OpenAI\n",
    "\n",
    "client = OpenAI()\n",
    "\n",
    "stream = client.chat.completions.create(\n",
    "    model=\"gpt-4o-mini\",\n",
    "    messages=[{\"role\": \"system\", \"content\": \"\"\"\n",
    "    Convert the following natural language requests into SQL queries:\n",
    "1. \"employee 의 임금이 50000이 넘는 경우를 조회하는 쿼리\": SELECT * FROM employees WHERE salary > 50000;\n",
    "2. \"상품의 재고가 0 인 경우를 조회하는 쿼리\": SELECT * FROM products WHERE stock = 0;\n",
    "3. \"수학 점수가 90이 넘는 학생의 이름을 조회하는 쿼리 \": SELECT name FROM students WHERE math_score > 90;\n",
    "4. \"상품의 주문일이 현재 날짜 기준 30일 전인 경우를 조회하는 쿼리 \": SELECT * FROM orders WHERE order_date >= DATE_SUB(CURDATE(), INTERVAL 30 DAY);\n",
    "5. \"각 도시에 살고있는 고객의 수를 조회하는 쿼리\": SELECT city, COUNT(*) FROM customers GROUP BY city;\n",
    "    \"\"\"},\n",
    "    {\"role\": \"user\", \"content\": \"Find the average salary of employees in the marketing department.\"}\n",
    "    ],\n",
    "    stream=True,\n",
    ")\n",
    "\n",
    "for chunk in stream:\n",
    "    if chunk.choices[0].delta.content is not None:\n",
    "        print(chunk.choices[0].delta.content, end=\"\")"
   ]
  },
  {
   "cell_type": "markdown",
   "metadata": {},
   "source": [
    "다음 문제를 푸는 Chain of thought prompt 를 작성해보세요."
   ]
  },
  {
   "cell_type": "code",
   "execution_count": 9,
   "metadata": {},
   "outputs": [
    {
     "name": "stdout",
     "output_type": "stream",
     "text": [
      "To solve the problem \\(23 + 47\\) step-by-step, we can follow these steps:\n",
      "\n",
      "1. **Align the Numbers**: Write the numbers one above the other, aligning the digits by their place values.\n",
      "   ```\n",
      "     23\n",
      "   + 47\n",
      "   ```\n",
      "\n",
      "2. **Add the Units Place**: Start by adding the digits in the rightmost column (the units place).\n",
      "   - \\(3 + 7 = 10\\)\n",
      "   - Write down 0 and carry over 1 to the next column.\n",
      "\n",
      "3. **Add the Tens Place**: Now, add the digits in the tens place, including any carry from the previous step.\n",
      "   - \\(2 + 4 + 1 = 7\\) (the 1 is from the carry)\n",
      "   \n",
      "4. **Write Down the Result**: Combine the results of each column.\n",
      "   ```\n",
      "     23\n",
      "   + 47\n",
      "   -----\n",
      "     70\n",
      "   ```\n",
      "\n",
      "So, \\(23 + 47 = 70\\)."
     ]
    }
   ],
   "source": [
    "from openai import OpenAI\n",
    "\n",
    "client = OpenAI()\n",
    "\n",
    "stream = client.chat.completions.create(\n",
    "    model=\"gpt-4o-mini\",\n",
    "    messages=[\n",
    "    {\"role\": \"user\", \"content\": \"\"\" \n",
    "        Solve the following problem step-by-step: 23 + 47\n",
    "\n",
    "Step-by-step solution:\n",
    "1. 10+50 = 60\n",
    "2. 13+100 = 113\n",
    "3. 1235+1235 = 2470\n",
    "4. 2222+2222 = 4444\n",
    "    \"\"\"}\n",
    "    ],\n",
    "    stream=True,\n",
    ")\n",
    "\n",
    "for chunk in stream:\n",
    "    if chunk.choices[0].delta.content is not None:\n",
    "        print(chunk.choices[0].delta.content, end=\"\")"
   ]
  },
  {
   "cell_type": "markdown",
   "metadata": {},
   "source": [
    "아래 문제 (Intermediate-1, Intermediate-2) 를 푸는 과정을 담은 CoT 예시를 작성해보세요."
   ]
  },
  {
   "cell_type": "code",
   "execution_count": 10,
   "metadata": {},
   "outputs": [
    {
     "name": "stdout",
     "output_type": "stream",
     "text": [
      "Let's solve the puzzle step-by-step based on the clues provided.\n",
      "\n",
      "We have three friends: Alice, Bob, and Carol. Their favorite colors are red, blue, and green, and we are given the following clues:\n",
      "\n",
      "1. Alice does not like red.\n",
      "2. Bob does not like blue.\n",
      "3. Carol likes green.\n",
      "\n",
      "Now let's analyze the clues one by one.\n",
      "\n",
      "**Step 1:** Analyze the clues.\n",
      "\n",
      "- From clue 1, we know Alice does not like red. Therefore, Alice can either like blue or green.\n",
      "  \n",
      "- From clue 2, Bob does not like blue. Therefore, Bob can either like red or green.\n",
      "\n",
      "- From clue 3, we know Carol likes green. Since Carol's favorite color is green, Alice and Bob cannot like green and must like either red or blue.\n",
      "\n",
      "**Step 2:** Determine the implications of each clue.\n",
      "\n",
      "Since we know Carol's favorite color is green:\n",
      "- Alice cannot like red (because of clue 1), and since Carol likes green, Alice must like blue.\n",
      "  \n",
      "- Now, since Alice likes blue, Bob cannot like blue (clue 2) and because Carol likes green, Bob must like red.\n",
      "\n",
      "At this point, we have determined:\n",
      "- Alice likes blue.\n",
      "- Bob likes red.\n",
      "- Carol likes green.\n",
      "\n",
      "**Step 3:** Summarize the results.\n",
      "\n",
      "1. Alice's favorite color: **Blue**\n",
      "2. Bob's favorite color: **Red**\n",
      "3. Carol's favorite color: **Green**\n",
      "\n",
      "**Final result:**\n",
      "- Alice: Blue\n",
      "- Bob: Red\n",
      "- Carol: Green\n",
      "\n",
      "This solution is consistent with all the clues provided. Thus, we have successfully identified each friend's favorite color."
     ]
    }
   ],
   "source": [
    "from openai import OpenAI\n",
    "\n",
    "client = OpenAI()\n",
    "\n",
    "stream = client.chat.completions.create(\n",
    "    model=\"gpt-4o-mini\",\n",
    "    messages=[\n",
    "    {\"role\": \"user\", \"content\": \"\"\" \n",
    "        Solve the following logic puzzle step-by-step:\n",
    "Three friends, Alice, Bob, and Carol, have different favorite colors: red, blue, and green. We know that:\n",
    "1. Alice does not like red.\n",
    "2. Bob does not like blue.\n",
    "3. Carol likes green.\n",
    "\n",
    "Determine the favorite color of each friend.\n",
    "\n",
    "Step-by-step solution:\n",
    "1. 사람 A 가 빨강을 좋아한다면 사람 B,C 는 빨강을 좋아하지 않습니다.\n",
    "2. 사람 B 가 파랑을 좋아한다면 사람 A,C 는 파랑을 좋아하지 않습니다.\n",
    "3. 사람 C 가 초록을 좋아한다면 사람 A,B 는 초록을 좋아하지 않습니다.\n",
    "4. 가능한 경우를 출력합니다.\n",
    "    \"\"\"}\n",
    "    ],\n",
    "    stream=True,\n",
    ")\n",
    "\n",
    "for chunk in stream:\n",
    "    if chunk.choices[0].delta.content is not None:\n",
    "        print(chunk.choices[0].delta.content, end=\"\")"
   ]
  },
  {
   "cell_type": "markdown",
   "metadata": {},
   "source": [
    "# Intermediate - 2"
   ]
  },
  {
   "cell_type": "code",
   "execution_count": 16,
   "metadata": {},
   "outputs": [
    {
     "name": "stdout",
     "output_type": "stream",
     "text": [
      "To solve the logic puzzle step-by-step, let’s analyze the requirements one by one and identify the valid seating arrangements for A, B, C, and D.\n",
      "\n",
      "### Given Information:\n",
      "1. A is not next to B.\n",
      "2. B is next to C.\n",
      "3. C is not next to D.\n",
      "\n",
      "### Step-by-Step Breakdown:\n",
      "\n",
      "1. **Start with the known relationships:**\n",
      "   - B must be next to C (from statement 2). This means the possible pairs are (B, C) or (C, B).\n",
      "\n",
      "2. **Consider the seating arrangements:**\n",
      "   - Let's denote the seating positions as 1, 2, 3, and 4.\n",
      "   - We can start forming the arrangements based on the pair (B, C).\n",
      "\n",
      "3. **Possible arrangements involving B and C:**\n",
      "   - If we treat BC as a block, the arrangements could be:\n",
      "     - (B, C) could take positions (1, 2) or (2, 3) or (3, 4).\n",
      "\n",
      "### Let's examine each case:\n",
      "\n",
      "#### Case 1: B, C in positions (1, 2)\n",
      "- Arrangement: (B, C, _, _)\n",
      "- Possible arrangements for A and D:\n",
      "  - A cannot be in position 2 (next to B) ⇒ A must be in position 3 or 4.\n",
      "  - If A is in position 3: (B, C, A, D) is a valid arrangement (as C is not next to D).\n",
      "  - If A is in position 4: (B, C, D, A) is invalid (C is next to D).\n",
      "  \n",
      "Valid arrangement: (B, C, A, D)\n",
      "\n",
      "#### Case 2: B, C in positions (2, 3)\n",
      "- Arrangement: (_, B, C, _)\n",
      "- Possible arrangements for A and D:\n",
      "  - A cannot be in position 2 or 3 (next to B and C) ⇒ A must be in position 1 or 4.\n",
      "  - If A is in position 1: (A, B, C, D) is valid (as D is not next to C).\n",
      "  - If A is in position 4: (D, B, C, A) is invalid (C is next to D).\n",
      "  \n",
      "Valid arrangement: (A, B, C, D)\n",
      "\n",
      "#### Case 3: B, C in positions (3, 4)\n",
      "- Arrangement: (_, _, B, C)\n",
      "- Possible arrangements for A and D:\n",
      "  - A cannot be in position 3 or 4 (next to C) ⇒ A must be in position 1 or 2.\n",
      "  - If A is in position 1 and D in position 2, we get (A, D, B, C) which is valid.\n",
      "  - If A is in position 2 and D in position 1, we get (D, A, B, C) which is invalid (A next to B).\n",
      "\n",
      "Valid arrangement: (A, D, B, C)\n",
      "\n",
      "### Final Valid Arrangements:\n",
      "From our cases, the valid arrangements that satisfy all conditions are:\n",
      "1. (B, C, A, D)\n",
      "2. (A, B, C, D)\n",
      "3. (A, D, B, C)\n",
      "\n",
      "**Conclusion**: The possible seating arrangements are:\n",
      "- B, C, A, D\n",
      "- A, B, C, D\n",
      "- A, D, B, C\n",
      "\n",
      "After careful consideration, we determine that only the arrangement including A and D separated from B and C satisfy all the conditions. The only arrangements that satisfy all three conditions are:\n",
      "1. A, D, B, C\n",
      "2. B, C, A, D\n",
      "\n",
      "These arrangements fulfill the constraints provided:\n",
      "- A is not next to B.\n",
      "- B is indeed next to C.\n",
      "- C is absent from being next to D. \n",
      "\n",
      "So the valid seating arrangements are:\n",
      "1. A, D, B, C\n",
      "2. B, C, A, D"
     ]
    }
   ],
   "source": [
    "from openai import OpenAI\n",
    "\n",
    "client = OpenAI()\n",
    "\n",
    "stream = client.chat.completions.create(\n",
    "    model=\"gpt-4o-mini\",\n",
    "    messages=[\n",
    "    {\"role\": \"user\", \"content\": \"\"\" \n",
    "        Solve the following logic puzzle step-by-step:\n",
    "Four people (A, B, C, D) are sitting in a row. We know that:\n",
    "1. A is not next to B.\n",
    "2. B is next to C.\n",
    "3. C is not next to D.\n",
    "\n",
    "Determine the possible seating arrangements.\n",
    "\n",
    "Step-by-step solution:\n",
    "1. ABCD 라면, A 다음에 B 가 앉아있고, B 다음에 C 가 앉아있고, C 다음에 D가 앉아있는 경우입니다. 즉 B가 C 다음에 온다면 BC 는 불가능합니다\n",
    "2. AABB 와 같이, 좌석순서에는 같은 사람이 존재하지 않습니다.\n",
    "3. 앉은 순서는 각 사람의 이름으로 제공합니다.\n",
    "\n",
    "    \"\"\"}\n",
    "    ],\n",
    "    stream=True,\n",
    ")\n",
    "\n",
    "for chunk in stream:\n",
    "    if chunk.choices[0].delta.content is not None:\n",
    "        print(chunk.choices[0].delta.content, end=\"\")"
   ]
  },
  {
   "cell_type": "markdown",
   "metadata": {},
   "source": [
    "claude API 가 되지 않아 OPENAI 로 테스트\n",
    "\n",
    "프롬프트 생성 요청"
   ]
  },
  {
   "cell_type": "code",
   "execution_count": 32,
   "metadata": {},
   "outputs": [
    {
     "name": "stdout",
     "output_type": "stream",
     "text": [
      "다음은 OpenAI에 적합한 프롬프트입니다:\n",
      "\n",
      "---\n",
      "\n",
      "**프롬프트: 주번 페어 배정 시스템**\n",
      "\n",
      "주번 페어를 구성하는 시스템을 만드세요. 아래 조건을 반드시 준수하세요:\n",
      "\n",
      "1. 주번은 매주 월요일에 변경되며, 각 주에 2명으로 이루어진 페어로 구성됩니다.\n",
      "2. 참여자는 다음과 같습니다: \n",
      "   - 정: albus.star, dante.93, cooper.lee, kylie.do, rein.withus, seed.sim, pharrell.mp3 \n",
      "   - 부: sera.son, jett.jistol, mark.dd, daisy.potter2, moka.gold, muscle.kim\n",
      "3. 정과 정은 같은 페어에 포함될 수 없으며, 부와 부도 마찬가지입니다.\n",
      "4. 각 사이클에서는 정과 부가 한 번씩 배치되어야 하며, 모든 정/부는 반드시 한 사이클 내에 포함되어야 합니다.\n",
      "5. cooper.lee는 예비 인원으로, 다른 사람과 페어를 만들 수 없는 경우에만 사용될 수 있습니다.\n",
      "6. 만약 어느 주에 휴가기록이 있다면, 해당 주에는 주번 페어를 다른 사람으로 배정해야 합니다. 예를 들어, albus.star가 2주차에 휴가인 경우, 다른 주차에 반드시 배정되어야 합니다.\n",
      "7. 주번 배정 결과를 출력하며, 만약 한 사이클에 포함되지 않은 사람이 있다면 그 사실을 알려주세요.\n",
      "\n",
      "입력 사항: 주마다 각 사람의 휴가 일정(예: [\"albus.star\": \"2주차\", \"jett.jistol\": \"3주차\"])을 제공하며, 이를 바탕으로 적절한 주번 페어를 구성하세요.\n",
      "\n",
      "---\n",
      "\n",
      "이 프롬프트를 사용하면 OpenAI 모델이 위 조건을 기반으로 하여 주번 페어를 적절하게 할당할 수 있습니다."
     ]
    }
   ],
   "source": [
    "from openai import OpenAI\n",
    "\n",
    "client = OpenAI()\n",
    "\n",
    "stream = client.chat.completions.create(\n",
    "    model=\"gpt-4o-mini\",\n",
    "    messages=[\n",
    "    {\"role\": \"user\", \"content\": \"\"\" \n",
    "        open ai 에서 사용할 프롬프트를 생성해줘.\n",
    "        아래와 같이 생성하면 된다.\n",
    "        1. 주번을 정하는 것을 도울 수 있어야해\n",
    "        2. 각 사람은 albus.star, dante.93, sera.son, jett.jistol, mark.dd, kylie.do, daisy.potter2, moka.gold, rein.withus, seed.sim, muscle.kim, pharrell.mp3 가 있어\n",
    "        3. 그 중 정 / 부가 존재해서 정과 정끼리는 붙이면 안되고, 2명 페어로 이루어져있어.\n",
    "        4. 정은 albus.star, dante.93, cooper.lee, kylie.do, rein.withus, seed.sim, pharrell.mp3 야. 부는 sera.son, jett.jistol, mark.dd, daisy.potter2, moka.gold, muscle.kim 야\n",
    "        5. 주번은 매주 월요일에 교체가 됨.\n",
    "        6. cooper.lee 는 휴가나 등으로 주번 페어를 만들 수 없는 경우 예비로 투입될 수 있어.\n",
    "        7. 한 사이클은 정 / 부가 한번씩 배치되면 끝이야. 또한 모든 정 / 부는 한 사이클에 무조건 한번은 주번 페어에 들어가야해.\n",
    "        8. 만약 한 사이클에 포함되지 않은 사람이 있음 말해줘\n",
    "        9. 요청에 휴가기록이 있다면 그 주에는 주번 페어를 다른 사람을 배정해야해.\n",
    "        10. 예를 들어 albus.star 가 2주차에 휴가라면, 휴가가 아닌 다른 주차에 무조건 배정되어야해.\n",
    "\n",
    "        이랬을 때 open ai 에 적합한 프롬프트를 생성해줘\n",
    "\n",
    "    \"\"\"}\n",
    "    ],\n",
    "    stream=True,\n",
    ")\n",
    "\n",
    "for chunk in stream:\n",
    "    if chunk.choices[0].delta.content is not None:\n",
    "        print(chunk.choices[0].delta.content, end=\"\")"
   ]
  },
  {
   "cell_type": "code",
   "execution_count": null,
   "metadata": {},
   "outputs": [],
   "source": [
    "prompt 적용"
   ]
  },
  {
   "cell_type": "code",
   "execution_count": 47,
   "metadata": {},
   "outputs": [
    {
     "name": "stdout",
     "output_type": "stream",
     "text": [
      "주번 페어 배정 시스템에 따라 주번을 배정하고, 주차 및 휴가 정보를 반영해 6주 치의 주번 페어를 구성하겠습니다.\n",
      "\n",
      "### 참여자 목록\n",
      "\n",
      "- **정**: albus.star, dante.93, kylie.do, rein.withus, seed.sim, pharrell.mp3 \n",
      "- **부**: sera.son, jett.jistol, mark.dd, daisy.potter2, moka.gold, muscle.kim\n",
      "\n",
      "### 휴가 정보\n",
      "- 1주차: albus.star (정)\n",
      "- 2주차: jett.jistol (부)\n",
      "\n",
      "### 주번 페어 구성 (6주)\n",
      "\n",
      "| 주차 | 정         | 부            |\n",
      "|------|------------|---------------|\n",
      "| 1    | dante.93  | sera.son      |\n",
      "| 2    | kylie.do  | mark.dd       |\n",
      "| 3    | albus.star | jett.jistol   |\n",
      "| 4    | rein.withus| daisy.potter2 |\n",
      "| 5    | seed.sim   | moka.gold     |\n",
      "| 6    | pharrell.mp3| muscle.kim   |\n",
      "\n",
      "### 정리\n",
      "1. 1주차: albus.star가 휴가이므로 dante.93와 sera.son을 배정. \n",
      "2. 2주차: jett.jistol가 휴가이므로 kylie.do와 mark.dd를 배정.\n",
      "3. 3주차: albus.star가 1주차에 배정되지 않아 jett.jistol과 페어 형성.\n",
      "4. 각 주차마다 정과 부가 반드시 한 번씩 배치되며, 주마다 정과 부가 서로 다른 조합으로 구성됨.\n",
      "5. 모든 정과 부는 최소 한 사이클에 포함됨.\n",
      "\n",
      "### 확인 사항\n",
      "- 모든 참여자는 적어도 한 번씩 주번으로 배정됨.\n",
      "  \n",
      "### 결론\n",
      "대상자 누구도 사이클 내에 포함되지 않는 일이 없었으며, 따로 예비 인원 cooper.lee는 사용되지 않았습니다."
     ]
    }
   ],
   "source": [
    "from openai import OpenAI\n",
    "\n",
    "client = OpenAI()\n",
    "\n",
    "stream = client.chat.completions.create(\n",
    "    model=\"gpt-4o-mini\",\n",
    "    messages=[\n",
    "    {\"role\": \"user\", \"content\": \"\"\" \n",
    "        ---\n",
    "\n",
    "**프롬프트: 주번 페어 배정 시스템**\n",
    "\n",
    "주번 페어를 구성하는 시스템을 만드세요. 아래 조건을 반드시 준수하세요:\n",
    "\n",
    "1. 주번은 매주 월요일에 변경되며, 각 주에 정 1명, 부 1명으로 구성됩니다.\n",
    "2. 참여자는 다음과 같습니다: \n",
    "   - 정: albus.star, dante.93, kylie.do, rein.withus, seed.sim, pharrell.mp3 \n",
    "   - 부: sera.son, jett.jistol, mark.dd, daisy.potter2, moka.gold, muscle.kim\n",
    "3. 정과 정은 같은 페어에 포함될 수 없으며, 부와 부도 마찬가지입니다. 예를 들어 albus.star 와 dante.93 은 같이 배정이 안됩니다.\n",
    "4. 각 사이클에서는 정과 부가 한 번씩 배치되어야 하며, 모든 정/부는 반드시 한 사이클 내에 포함되어야 합니다.\n",
    "5. cooper.lee는 예비 인원으로, 다른 사람과 페어를 만들 수 없는 경우에만 사용될 수 있습니다.\n",
    "6. 만약 어느 주에 휴가기록이 있다면, 해당 주에는 주번 페어를 다른 사람으로 배정해야 합니다. 예를 들어, albus.star가 2주차에 휴가인 경우, albus.star 는 다른 주차에 반드시 배정되어야 합니다.\n",
    "7. 주번 배정 결과를 출력하며, 만약 한 사이클에 포함되지 않은 사람이 있다면 그 사실을 알려주세요.\n",
    "8. 각 정과 각 부는 무조건 한사이클에 최소 한번은 포함되어야합니다.\n",
    "\n",
    "---\n",
    "\n",
    "albus.star 는 1주차에 휴가, jett.jistol 은 2주차에 휴가일 때, \n",
    "이를 바탕으로 6주치의 적절한 주번 페어를 구성해줄 수 있어?\n",
    "\n",
    "    \"\"\"}\n",
    "    ],\n",
    "    stream=True,\n",
    ")\n",
    "\n",
    "for chunk in stream:\n",
    "    if chunk.choices[0].delta.content is not None:\n",
    "        print(chunk.choices[0].delta.content, end=\"\")"
   ]
  }
 ],
 "metadata": {
  "kernelspec": {
   "display_name": "base",
   "language": "python",
   "name": "python3"
  },
  "language_info": {
   "codemirror_mode": {
    "name": "ipython",
    "version": 3
   },
   "file_extension": ".py",
   "mimetype": "text/x-python",
   "name": "python",
   "nbconvert_exporter": "python",
   "pygments_lexer": "ipython3",
   "version": "3.11.7"
  }
 },
 "nbformat": 4,
 "nbformat_minor": 2
}
